{
  "nbformat": 4,
  "nbformat_minor": 0,
  "metadata": {
    "colab": {
      "provenance": []
    },
    "kernelspec": {
      "name": "python3",
      "display_name": "Python 3"
    },
    "language_info": {
      "name": "python"
    }
  },
  "cells": [
    {
      "cell_type": "markdown",
      "source": [],
      "metadata": {
        "id": "gqp7_KvbzzNG"
      }
    },
    {
      "cell_type": "markdown",
      "source": [
        "**### DESAFIO BÁSICO FORMAÇÃO PYTHON DEVELOPER - 03 ENCAIXA OU NÃO?**\n",
        "\n",
        "### Desafio\n",
        "Paulinho tem em suas mãos um novo problema. Agora a sua professora lhe pediu que construísse um programa para verificar, à partir de dois valores muito grandes A e B, se B corresponde aos últimos dígitos de A.\n",
        "\n",
        "### Entrada\n",
        "A entrada consiste de vários casos de teste. A primeira linha de entrada contém um inteiro N que indica a quantidade de casos de teste. Cada caso de teste consiste de dois valores A e B maiores que zero, cada um deles podendo ter até 1000 dígitos.\n",
        "\n",
        "### Saída\n",
        "Para cada caso de entrada imprima uma mensagem indicando se o segundo valor encaixa no primeiro valor, confome exemplo abaixo.\n",
        "\n",
        "### Exemplo de Entrada\n",
        "4\n",
        "56234523485723854755454545478690 78690\n",
        "5434554 543\n",
        "1243 1243\n",
        "54 64545454545454545454545454545454554\n",
        "\n",
        "## Exemplo de Saída\n",
        "encaixa\n",
        "nao encaixa\n",
        "encaixa\n",
        "nao encaixa\n",
        "\n"
      ],
      "metadata": {
        "id": "9VTcmdtazw_i"
      }
    },
    {
      "cell_type": "code",
      "execution_count": 4,
      "metadata": {
        "colab": {
          "base_uri": "https://localhost:8080/"
        },
        "id": "ikkAVCvhq9p4",
        "outputId": "01d21cd8-ff44-4134-f72b-9288eb217e30"
      },
      "outputs": [
        {
          "output_type": "stream",
          "name": "stdout",
          "text": [
            "1\n",
            "1243 1243\n",
            "encaixa\n"
          ]
        }
      ],
      "source": [
        "N = int(input())\n",
        "\n",
        "for i in range(N):\n",
        "    A, B = input().split()\n",
        "    if A[-len(B):] == B:\n",
        "        print(\"encaixa\")\n",
        "    else:\n",
        "        print(\"nao encaixa\")\n"
      ]
    }
  ]
}