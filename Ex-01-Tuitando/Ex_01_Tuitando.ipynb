{
  "nbformat": 4,
  "nbformat_minor": 0,
  "metadata": {
    "colab": {
      "provenance": []
    },
    "kernelspec": {
      "name": "python3",
      "display_name": "Python 3"
    },
    "language_info": {
      "name": "python"
    }
  },
  "cells": [
    {
      "cell_type": "code",
      "execution_count": null,
      "metadata": {
        "id": "0qDiUG6SX_zX"
      },
      "outputs": [],
      "source": []
    },
    {
      "cell_type": "markdown",
      "source": [
        "## **DESAFIO**\n",
        "O microblog Twitter é conhecido por limitar as postagens em 140 caracteres. Conferir se um texto vai caber em um tuíte é sua tarefa.\n",
        "\n",
        "## Entrada\n",
        "A entrada é uma linha de texto T (1 ≤ |T| ≤ 500).\n",
        "\n",
        "## Saída\n",
        "A saída é dada em uma única linha. Ela deve ser \"TWEET\" (sem as aspas) se a linha de texto T tem até 140 caracteres. Se T tem mais de 140 caracteres, a saída deve ser \"MUTE\".\n",
        "\n",
        "## Exemplo de Entrada\n",
        "RT @TheEllenShow: If only Bradley's arm was longer. Best photo ever. #oscars pic.twitter.com/C9U5NOtGap\n",
        "\n",
        "## Exemplo de Saída\n",
        "TWEET"
      ],
      "metadata": {
        "id": "H53HqhKCYEf0"
      }
    },
    {
      "cell_type": "code",
      "source": [
        "T = input()\n",
        "if len(T) <= 140:\n",
        "    print('TWEET')\n",
        "else:\n",
        "    print('MUTE')"
      ],
      "metadata": {
        "colab": {
          "base_uri": "https://localhost:8080/"
        },
        "id": "5ByRTt5OYLnU",
        "outputId": "67311883-150a-42a7-b356-960b85b6c5b2"
      },
      "execution_count": 3,
      "outputs": [
        {
          "output_type": "stream",
          "name": "stdout",
          "text": [
            "RT @TheEllenShow: If only Bradley's arm was longer. Best photo ever. #oscars pic.twitter.com/C9U5NOtGap\n",
            "TWEET\n"
          ]
        }
      ]
    }
  ]
}