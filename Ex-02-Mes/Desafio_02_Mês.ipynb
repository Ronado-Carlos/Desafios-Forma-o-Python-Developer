{
  "nbformat": 4,
  "nbformat_minor": 0,
  "metadata": {
    "colab": {
      "provenance": []
    },
    "kernelspec": {
      "name": "python3",
      "display_name": "Python 3"
    },
    "language_info": {
      "name": "python"
    }
  },
  "cells": [
    {
      "cell_type": "markdown",
      "source": [
        "## Desafio\n",
        "Leia um valor inteiro entre 1 e 12, inclusive. Correspondente a este valor, deve ser apresentado como resposta o mês do ano por extenso, em inglês, com a primeira letra maiúscula.\n",
        "\n",
        "## Entrada\n",
        "A entrada contém um único valor inteiro.\n",
        "\n",
        "## Saída\n",
        "Imprima por extenso o nome do mês correspondente ao número existente na entrada, com a primeira letra em maiúscula.\n",
        "\n",
        "## Exemplo de Entrada\n",
        "4\n",
        "## Saída\n",
        "April\n"
      ],
      "metadata": {
        "id": "RrTS7JHpfWU1"
      }
    },
    {
      "cell_type": "code",
      "source": [
        "month = int(input())\n",
        "\n",
        "months_dict = {\n",
        "    1: \"January\",\n",
        "    2: \"February\",\n",
        "    3: \"March\",\n",
        "    4: \"April\",\n",
        "    5: \"May\",\n",
        "    6: \"June\",\n",
        "    7: \"July\",\n",
        "    8: \"August\",\n",
        "    9: \"September\",\n",
        "    10: \"October\",\n",
        "    11: \"November\",\n",
        "    12: \"December\"\n",
        "}\n",
        "\n",
        "for c in months_dict:\n",
        "  if month == c:\n",
        "    print(months_dict[c])"
      ],
      "metadata": {
        "colab": {
          "base_uri": "https://localhost:8080/"
        },
        "id": "ew519Ekmf2L_",
        "outputId": "b7d0758d-945c-4334-c74b-bfec9159d8de"
      },
      "execution_count": 1,
      "outputs": [
        {
          "output_type": "stream",
          "name": "stdout",
          "text": [
            "5\n",
            "May\n"
          ]
        }
      ]
    }
  ]
}