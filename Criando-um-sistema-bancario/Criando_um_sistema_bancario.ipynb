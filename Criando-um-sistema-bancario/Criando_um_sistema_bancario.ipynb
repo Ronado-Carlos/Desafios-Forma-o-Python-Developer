{
  "nbformat": 4,
  "nbformat_minor": 0,
  "metadata": {
    "colab": {
      "provenance": []
    },
    "kernelspec": {
      "name": "python3",
      "display_name": "Python 3"
    },
    "language_info": {
      "name": "python"
    }
  },
  "cells": [
    {
      "cell_type": "code",
      "execution_count": 31,
      "metadata": {
        "colab": {
          "base_uri": "https://localhost:8080/"
        },
        "id": "fHLUjWO27dto",
        "outputId": "1216f9b9-c8cd-44d2-9b32-ea145115a382"
      },
      "outputs": [
        {
          "name": "stdout",
          "output_type": "stream",
          "text": [
            "Didite a opção desejada:\n",
            "[D] Depositar\n",
            "[S] Sacar\n",
            "[E] Extrato\n",
            "[Q] Sair\n",
            "T\n",
            "Operação iválida, por favor selecione novamente a opeção desejada\n",
            "Didite a opção desejada:\n",
            "[D] Depositar\n",
            "[S] Sacar\n",
            "[E] Extrato\n",
            "[Q] Sair\n",
            "Q\n"
          ]
        }
      ],
      "source": [
        "menu = '''Didite a opção desejada:\n",
        "[D] Depositar\n",
        "[S] Sacar\n",
        "[E] Extrato\n",
        "[Q] Sair\n",
        "'''\n",
        "# Definindo as variáveis Saldo, Limite, Extrato, Número de Saques e Limite de saques\n",
        "saldo = 0\n",
        "limite = 500\n",
        "extrato = \"\"\n",
        "numero_saques = 0\n",
        "LIMITE_SAQUES = 3\n",
        "\n",
        "# OPERAÇÃO DE DEPÓSITO\n",
        "# Deve ser possível depositar valores positivos, Todos os depósitos devem ser armazenados em uma variável e exibidos na operação de extrato.\n",
        "\n",
        "while True:\n",
        "    opcao = input(menu)\n",
        "    if opcao == 'D':\n",
        "        valor_deposito = float(input(\"informe o valor do depósito R$ \"))\n",
        "        if valor_deposito > 0:\n",
        "            saldo = saldo + valor_deposito\n",
        "            extrato += f'Depósito R${valor_deposito:.2f}\\n'\n",
        "            print('Depósito realizado com sucesso!')\n",
        "        else:\n",
        "            print('Operação Não realizada, o valor informado é inválido, tente novamente!')\n",
        "\n",
        "# OPERAÇÃO DE SAQUE\n",
        "# O sistema deve permitir realizar 3 saques diários com limite máximo de R$ 500,00 por saque.\n",
        "# Caso o usuário não tenha saldo em conta, o sistema deve exibir uma mensagem informando que não será possível sacar o dinheiro por falta de saldo.\n",
        "# Todos os saques devem ser armazenados em uma variável e exibidos na operação de extrato.\n",
        "\n",
        "    elif opcao == 'S':\n",
        "        valor_saque = float(input('Digite o valor do saque R$ '))\n",
        "\n",
        "        excedeu_saldo = valor_saque > saldo\n",
        "        excedeu_limite = valor_saque > limite\n",
        "        excedeu_saques = numero_saques >= LIMITE_SAQUES\n",
        "\n",
        "        if excedeu_saldo:\n",
        "          print('Operação não realizada, você não tem saldo suficiente!, tente novamente')\n",
        "        elif excedeu_limite:\n",
        "            print('Operação não realizada, limite de valor excedido')\n",
        "        elif excedeu_saques:\n",
        "            print('Operação não realizada, limite de saques diários excedido')\n",
        "        elif valor_saque > 0:\n",
        "          saldo -= valor_saque\n",
        "          extrato += f'Saque R$ {valor_saque:.2f}\\n'\n",
        "          numero_saques += 1\n",
        "          print('Saque realizado com sucesso!')\n",
        "        else:\n",
        "          print('Operação não realizada, valor informado inválido')\n",
        "\n",
        "# OPERAÇÃO DE EXTRATO\n",
        "# Essa operação deve listar todos os depósitos e saques realizados na conta. No fim da listagem deve ser exibido o saldo atual da conta.\n",
        "# Se o extrato estiver em branco, exibir a mensagem: Não foram realizadas movimentações.\n",
        "# Os valores devem ser exibidos utilizando o formato R$ xxx.xx, exemplo: 1500.45 = R$ 1500.45\n",
        "\n",
        "    elif opcao == 'E':\n",
        "        print('\\n----------EXTRATO BANCÁRIO----------')\n",
        "        print('Não foram realizadas movimentações.' if not extrato else extrato)\n",
        "        print(f'\\nSaldo: R${saldo:.2f}')\n",
        "        print('\\n----------VOLTE SEMPRE!----------')\n",
        "# Sair\n",
        "    elif opcao == 'Q':\n",
        "        break\n",
        "\n",
        "    else:\n",
        "      print('Operação iválida, por favor selecione novamente a opeção desejada')\n",
        "\n",
        ""
      ]
    }
  ]
}